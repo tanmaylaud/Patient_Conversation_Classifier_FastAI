{
  "nbformat": 4,
  "nbformat_minor": 0,
  "metadata": {
    "colab": {
      "name": "Patient_Conversation_Classifier_NLP.ipynb",
      "provenance": [],
      "toc_visible": true,
      "authorship_tag": "ABX9TyMLC2eTlaX6JB/7gd0lp8aI",
      "include_colab_link": true
    },
    "kernelspec": {
      "name": "python3",
      "display_name": "Python 3"
    },
    "accelerator": "GPU"
  },
  "cells": [
    {
      "cell_type": "markdown",
      "metadata": {
        "id": "view-in-github",
        "colab_type": "text"
      },
      "source": [
        "<a href=\"https://colab.research.google.com/github/tanmaylaud/Patient_Conversation_Classifier_FastAI/blob/master/Patient_Conversation_Classifier_NLP.ipynb\" target=\"_parent\"><img src=\"https://colab.research.google.com/assets/colab-badge.svg\" alt=\"Open In Colab\"/></a>"
      ]
    },
    {
      "cell_type": "code",
      "metadata": {
        "id": "yAEFVnQ-lOa8",
        "colab_type": "code",
        "colab": {}
      },
      "source": [
        "%reload_ext autoreload\n",
        "%autoreload 2\n",
        "%matplotlib inline"
      ],
      "execution_count": 0,
      "outputs": []
    },
    {
      "cell_type": "code",
      "metadata": {
        "id": "sPExDmoMk_og",
        "colab_type": "code",
        "colab": {}
      },
      "source": [
        "from fastai import *\n",
        "from fastai.text import *\n",
        "import pandas as pd"
      ],
      "execution_count": 0,
      "outputs": []
    },
    {
      "cell_type": "code",
      "metadata": {
        "id": "DQG_c1fTltxn",
        "colab_type": "code",
        "colab": {}
      },
      "source": [
        "path = Path('data')"
      ],
      "execution_count": 0,
      "outputs": []
    },
    {
      "cell_type": "code",
      "metadata": {
        "id": "T0lF6gZrs4on",
        "colab_type": "code",
        "colab": {}
      },
      "source": [
        "df = pd.read_csv(path/'test.csv',encoding= 'unicode_escape')\n",
        "df[['TRANS_CONV_TEXT']].to_csv(path/'test_processed.csv',index=False)"
      ],
      "execution_count": 0,
      "outputs": []
    },
    {
      "cell_type": "code",
      "metadata": {
        "id": "HxrLx57apYpP",
        "colab_type": "code",
        "colab": {}
      },
      "source": [
        "df = pd.read_csv(path/'train.csv',encoding= 'unicode_escape')\n",
        "df=df[['TRANS_CONV_TEXT','Patient_Tag']]\n",
        "df=df.dropna()\n",
        "df.to_csv(path/'train_processed.csv',index=False)"
      ],
      "execution_count": 0,
      "outputs": []
    },
    {
      "cell_type": "code",
      "metadata": {
        "id": "JbkOFquLmDji",
        "colab_type": "code",
        "colab": {
          "base_uri": "https://localhost:8080/",
          "height": 374
        },
        "outputId": "f6e84b32-cbf9-4eeb-9a8c-5b498f52f94c"
      },
      "source": [
        "data = TextLMDataBunch.from_csv(path=path, csv_name='train_processed.csv',\n",
        "                                test='test_processed.csv',text_cols='TRANS_CONV_TEXT',\n",
        "                                label_cols='Patient_Tag',\n",
        "                                )\n",
        "data.show_batch()"
      ],
      "execution_count": 6,
      "outputs": [
        {
          "output_type": "display_data",
          "data": {
            "text/html": [
              ""
            ],
            "text/plain": [
              "<IPython.core.display.HTML object>"
            ]
          },
          "metadata": {
            "tags": []
          }
        },
        {
          "output_type": "display_data",
          "data": {
            "text/html": [
              ""
            ],
            "text/plain": [
              "<IPython.core.display.HTML object>"
            ]
          },
          "metadata": {
            "tags": []
          }
        },
        {
          "output_type": "display_data",
          "data": {
            "text/html": [
              ""
            ],
            "text/plain": [
              "<IPython.core.display.HTML object>"
            ]
          },
          "metadata": {
            "tags": []
          }
        },
        {
          "output_type": "display_data",
          "data": {
            "text/html": [
              "<table border=\"1\" class=\"dataframe\">\n",
              "  <thead>\n",
              "    <tr style=\"text-align: right;\">\n",
              "      <th>idx</th>\n",
              "      <th>text</th>\n",
              "    </tr>\n",
              "  </thead>\n",
              "  <tbody>\n",
              "    <tr>\n",
              "      <td>0</td>\n",
              "      <td>xxup gp ordered it without me asking . xxmaj heart failure , severe weakness , constant angina , xxup bp can down xxunk drastically , suspected xxup xxunk / xxup xxunk , xxunk heart up to 350 down to 4 within xxunk , falls , xxunk , swollen red painful knees , vertigo etc .. could not go walking about without wheelchair . if they can walk with an aid</td>\n",
              "    </tr>\n",
              "    <tr>\n",
              "      <td>1</td>\n",
              "      <td>pumps , xxmaj ferrari and colleagues linked numerous dox molecules to stringlike molecules called polymers . xxmaj they then infused the dox - carrying polymers into their silicon microparticles and injected them into mice that had been implanted with human metastatic liver and lung tumors . xxmaj as with the previous studies , the researchers found that the silicon particles xxunk in and around tumor sites , and once there</td>\n",
              "    </tr>\n",
              "    <tr>\n",
              "      <td>2</td>\n",
              "      <td>/ celebrity - news / xxunk - gareth - xxunk xxbos a xxmaj wind xxmaj chill xxmaj advisory will be in effect from 10 tonight , until 10 xxmaj sunday morning . xxmaj columbia xxmaj gas service has been fully restored to western xxmaj sandusky and xxmaj bay xxmaj view . xxmaj and , after a water main break in xxmaj bay xxmaj view , a boil advisory is in</td>\n",
              "    </tr>\n",
              "    <tr>\n",
              "      <td>3</td>\n",
              "      <td>. xxmaj this makes bottom fishing even more interesting at times . xxmaj yes , i xxup do plan on adding significantly near term at these levels . i do believe everyone should do their own xxup dd . xxbos xxmaj hi my name is xxmaj katie . i m a huge fan of xxmaj justin xxmaj bieber . i was unable to go to his xxup ac show in</td>\n",
              "    </tr>\n",
              "    <tr>\n",
              "      <td>4</td>\n",
              "      <td>xxrep 11 ? xxrep 10 ? xxrep 13 ? xxrep 14 ? xxrep 9 ? xxrep 5 ? xxrep 7 ? xxrep 4 ? xxrep 8 ? xxrep 8 ? xxrep 18 ? . 1957 ? ? ? xxrep 22 ? xxrep 8 ? xxrep 5 ? xxrep 10 ? xxrep 12 ? xxrep 10 ? xxrep 9 ? xxrep 8 ? xxrep 11 ? xxrep 4 ? xxrep 10</td>\n",
              "    </tr>\n",
              "  </tbody>\n",
              "</table>"
            ],
            "text/plain": [
              "<IPython.core.display.HTML object>"
            ]
          },
          "metadata": {
            "tags": []
          }
        }
      ]
    },
    {
      "cell_type": "code",
      "metadata": {
        "id": "eZN76MaBoWvj",
        "colab_type": "code",
        "colab": {}
      },
      "source": [
        "data.save('data_proc.pkl')"
      ],
      "execution_count": 0,
      "outputs": []
    },
    {
      "cell_type": "code",
      "metadata": {
        "id": "Bt9DK3VCyrit",
        "colab_type": "code",
        "colab": {}
      },
      "source": [
        "learn = language_model_learner(data, AWD_LSTM, drop_mult=0.3)"
      ],
      "execution_count": 0,
      "outputs": []
    },
    {
      "cell_type": "code",
      "metadata": {
        "id": "keF7Y8aUpmjG",
        "colab_type": "code",
        "colab": {
          "base_uri": "https://localhost:8080/",
          "height": 405
        },
        "outputId": "a549be57-cc5d-434a-a8b1-1b7445ddd294"
      },
      "source": [
        "learn.lr_find()\n",
        "learn.recorder.plot(skip_end=15)"
      ],
      "execution_count": 9,
      "outputs": [
        {
          "output_type": "display_data",
          "data": {
            "text/html": [
              "\n",
              "    <div>\n",
              "        <style>\n",
              "            /* Turns off some styling */\n",
              "            progress {\n",
              "                /* gets rid of default border in Firefox and Opera. */\n",
              "                border: none;\n",
              "                /* Needs to be in here for Safari polyfill so background images work as expected. */\n",
              "                background-size: auto;\n",
              "            }\n",
              "            .progress-bar-interrupted, .progress-bar-interrupted::-webkit-progress-bar {\n",
              "                background: #F44336;\n",
              "            }\n",
              "        </style>\n",
              "      <progress value='1' class='' max='2', style='width:300px; height:20px; vertical-align: middle;'></progress>\n",
              "      50.00% [1/2 00:19<00:19]\n",
              "    </div>\n",
              "    \n",
              "<table border=\"1\" class=\"dataframe\">\n",
              "  <thead>\n",
              "    <tr style=\"text-align: left;\">\n",
              "      <th>epoch</th>\n",
              "      <th>train_loss</th>\n",
              "      <th>valid_loss</th>\n",
              "      <th>accuracy</th>\n",
              "      <th>time</th>\n",
              "    </tr>\n",
              "  </thead>\n",
              "  <tbody>\n",
              "    <tr>\n",
              "      <td>0</td>\n",
              "      <td>4.534325</td>\n",
              "      <td>#na#</td>\n",
              "      <td>00:19</td>\n",
              "    </tr>\n",
              "  </tbody>\n",
              "</table><p>\n",
              "\n",
              "    <div>\n",
              "        <style>\n",
              "            /* Turns off some styling */\n",
              "            progress {\n",
              "                /* gets rid of default border in Firefox and Opera. */\n",
              "                border: none;\n",
              "                /* Needs to be in here for Safari polyfill so background images work as expected. */\n",
              "                background-size: auto;\n",
              "            }\n",
              "            .progress-bar-interrupted, .progress-bar-interrupted::-webkit-progress-bar {\n",
              "                background: #F44336;\n",
              "            }\n",
              "        </style>\n",
              "      <progress value='17' class='' max='82', style='width:300px; height:20px; vertical-align: middle;'></progress>\n",
              "      20.73% [17/82 00:04<00:15 10.4866]\n",
              "    </div>\n",
              "    "
            ],
            "text/plain": [
              "<IPython.core.display.HTML object>"
            ]
          },
          "metadata": {
            "tags": []
          }
        },
        {
          "output_type": "stream",
          "text": [
            "LR Finder is complete, type {learner_name}.recorder.plot() to see the graph.\n"
          ],
          "name": "stdout"
        },
        {
          "output_type": "display_data",
          "data": {
            "image/png": "[encoded data removed]",
            "text/plain": [
              "<Figure size 432x288 with 1 Axes>"
            ]
          },
          "metadata": {
            "tags": []
          }
        }
      ]
    },
    {
      "cell_type": "code",
      "metadata": {
        "id": "vbvo4kzjr8Ze",
        "colab_type": "code",
        "colab": {
          "base_uri": "https://localhost:8080/",
          "height": 173
        },
        "outputId": "d2fdb09f-8b16-466e-8297-0ea6de067ee1"
      },
      "source": [
        "learn.fit_one_cycle(4, 1e-2, moms=(0.8,0.7))"
      ],
      "execution_count": 10,
      "outputs": [
        {
          "output_type": "display_data",
          "data": {
            "text/html": [
              "<table border=\"1\" class=\"dataframe\">\n",
              "  <thead>\n",
              "    <tr style=\"text-align: left;\">\n",
              "      <th>epoch</th>\n",
              "      <th>train_loss</th>\n",
              "      <th>valid_loss</th>\n",
              "      <th>accuracy</th>\n",
              "      <th>time</th>\n",
              "    </tr>\n",
              "  </thead>\n",
              "  <tbody>\n",
              "    <tr>\n",
              "      <td>0</td>\n",
              "      <td>4.311600</td>\n",
              "      <td>3.983014</td>\n",
              "      <td>0.296439</td>\n",
              "      <td>00:21</td>\n",
              "    </tr>\n",
              "    <tr>\n",
              "      <td>1</td>\n",
              "      <td>3.841139</td>\n",
              "      <td>3.861694</td>\n",
              "      <td>0.305438</td>\n",
              "      <td>00:21</td>\n",
              "    </tr>\n",
              "    <tr>\n",
              "      <td>2</td>\n",
              "      <td>3.350481</td>\n",
              "      <td>3.819197</td>\n",
              "      <td>0.311972</td>\n",
              "      <td>00:22</td>\n",
              "    </tr>\n",
              "    <tr>\n",
              "      <td>3</td>\n",
              "      <td>3.023856</td>\n",
              "      <td>3.816405</td>\n",
              "      <td>0.313758</td>\n",
              "      <td>00:22</td>\n",
              "    </tr>\n",
              "  </tbody>\n",
              "</table>"
            ],
            "text/plain": [
              "<IPython.core.display.HTML object>"
            ]
          },
          "metadata": {
            "tags": []
          }
        }
      ]
    },
    {
      "cell_type": "code",
      "metadata": {
        "id": "w-ufEwmE1QFG",
        "colab_type": "code",
        "colab": {
          "base_uri": "https://localhost:8080/",
          "height": 173
        },
        "outputId": "a7a9d555-3c94-4722-b476-714807f7ff66"
      },
      "source": [
        "learn.save('fit_head')\n",
        "learn.load('fit_head')\n",
        "learn.unfreeze()\n",
        "learn.fit_one_cycle(4, 1e-3, moms=(0.8,0.7))"
      ],
      "execution_count": 11,
      "outputs": [
        {
          "output_type": "display_data",
          "data": {
            "text/html": [
              "<table border=\"1\" class=\"dataframe\">\n",
              "  <thead>\n",
              "    <tr style=\"text-align: left;\">\n",
              "      <th>epoch</th>\n",
              "      <th>train_loss</th>\n",
              "      <th>valid_loss</th>\n",
              "      <th>accuracy</th>\n",
              "      <th>time</th>\n",
              "    </tr>\n",
              "  </thead>\n",
              "  <tbody>\n",
              "    <tr>\n",
              "      <td>0</td>\n",
              "      <td>2.861494</td>\n",
              "      <td>3.844104</td>\n",
              "      <td>0.312561</td>\n",
              "      <td>00:23</td>\n",
              "    </tr>\n",
              "    <tr>\n",
              "      <td>1</td>\n",
              "      <td>2.762268</td>\n",
              "      <td>3.840308</td>\n",
              "      <td>0.316416</td>\n",
              "      <td>00:23</td>\n",
              "    </tr>\n",
              "    <tr>\n",
              "      <td>2</td>\n",
              "      <td>2.544098</td>\n",
              "      <td>3.860389</td>\n",
              "      <td>0.317766</td>\n",
              "      <td>00:23</td>\n",
              "    </tr>\n",
              "    <tr>\n",
              "      <td>3</td>\n",
              "      <td>2.367312</td>\n",
              "      <td>3.883813</td>\n",
              "      <td>0.315909</td>\n",
              "      <td>00:23</td>\n",
              "    </tr>\n",
              "  </tbody>\n",
              "</table>"
            ],
            "text/plain": [
              "<IPython.core.display.HTML object>"
            ]
          },
          "metadata": {
            "tags": []
          }
        }
      ]
    },
    {
      "cell_type": "code",
      "metadata": {
        "id": "sgr6SJXJ10kr",
        "colab_type": "code",
        "colab": {}
      },
      "source": [
        "learn.save('fine_tuned')\n",
        "learn.load('fine_tuned');"
      ],
      "execution_count": 0,
      "outputs": []
    },
    {
      "cell_type": "code",
      "metadata": {
        "id": "rPBiH0z-2aaR",
        "colab_type": "code",
        "colab": {}
      },
      "source": [
        "learn.save_encoder('fine_tuned_enc')"
      ],
      "execution_count": 0,
      "outputs": []
    },
    {
      "cell_type": "code",
      "metadata": {
        "id": "yGMADuwj6u-9",
        "colab_type": "code",
        "colab": {
          "base_uri": "https://localhost:8080/",
          "height": 34
        },
        "outputId": "27ab0d4e-1bc7-4575-eed7-f487109c3209"
      },
      "source": [
        "learn.destroy()"
      ],
      "execution_count": 15,
      "outputs": [
        {
          "output_type": "stream",
          "text": [
            "this Learner object self-destroyed - it still exists, but no longer usable\n"
          ],
          "name": "stdout"
        }
      ]
    },
    {
      "cell_type": "code",
      "metadata": {
        "id": "JWPFEe_I3CM_",
        "colab_type": "code",
        "colab": {
          "base_uri": "https://localhost:8080/",
          "height": 17
        },
        "outputId": "5d406515-6e26-4da2-b5d7-934f3234fae1"
      },
      "source": [
        "data_clas = TextClasDataBunch.from_csv(path=path, csv_name='train_processed.csv',\n",
        "                                text_cols='TRANS_CONV_TEXT',\n",
        "                                label_cols='Patient_Tag',\n",
        "                                vocab = data.vocab,\n",
        "                                bs=20)"
      ],
      "execution_count": 20,
      "outputs": [
        {
          "output_type": "display_data",
          "data": {
            "text/html": [
              ""
            ],
            "text/plain": [
              "<IPython.core.display.HTML object>"
            ]
          },
          "metadata": {
            "tags": []
          }
        },
        {
          "output_type": "display_data",
          "data": {
            "text/html": [
              ""
            ],
            "text/plain": [
              "<IPython.core.display.HTML object>"
            ]
          },
          "metadata": {
            "tags": []
          }
        }
      ]
    },
    {
      "cell_type": "code",
      "metadata": {
        "id": "W28LIeWR3hOI",
        "colab_type": "code",
        "colab": {
          "base_uri": "https://localhost:8080/",
          "height": 442
        },
        "outputId": "adb67fe1-302b-493d-cb95-e599be607fbd"
      },
      "source": [
        "data_clas.show_batch()"
      ],
      "execution_count": 21,
      "outputs": [
        {
          "output_type": "display_data",
          "data": {
            "text/html": [
              "<table border=\"1\" class=\"dataframe\">\n",
              "  <thead>\n",
              "    <tr style=\"text-align: right;\">\n",
              "      <th>text</th>\n",
              "      <th>target</th>\n",
              "    </tr>\n",
              "  </thead>\n",
              "  <tbody>\n",
              "    <tr>\n",
              "      <td>xxbos xxmaj source xxmaj by xxmaj dr. xxmaj xxunk xxmaj have you checked your vitamin d status lately ? xxmaj ideally , you want to maintain a vitamin d level of 40 to 60 ng / ml year - round . xxmaj based on mounting research , 40 ng / ml appears to be the ? magic ? number at which a whole host of health benefits are xxunk .</td>\n",
              "      <td>0</td>\n",
              "    </tr>\n",
              "    <tr>\n",
              "      <td>xxbos xxmaj canadian xxmaj journal of xxmaj xxunk and xxunk 2016 ( 2016 ) , xxmaj article xxup id xxunk , 6 pages xxmaj research xxmaj article xxmaj split - xxmaj dose xxmaj xxunk xxmaj xxunk xxmaj is xxmaj superior to xxmaj single xxmaj dose for xxmaj colonoscopy xxmaj preparation : xxmaj results of a xxmaj randomized xxmaj controlled xxmaj trial 1 xxmaj division of xxmaj xxunk , xxmaj faculty</td>\n",
              "      <td>0</td>\n",
              "    </tr>\n",
              "    <tr>\n",
              "      <td>xxbos xxup must xxup watch xxmaj possible first case of xxup cte diagnosed in the living xxunk xxup cte is football 's xxunk . xxmaj researchers are n't sure exactly what makes some players susceptible to the disease and others not . xxmaj factors such as genetics and age of first impact may play a role . xxmaj but what is clear for many researchers is that it occurs because</td>\n",
              "      <td>0</td>\n",
              "    </tr>\n",
              "    <tr>\n",
              "      <td>xxbos xxmaj photo : xxmaj richard xxmaj shotwell , xxup ap xxmaj image 1 of / 26 26 xxmaj anton xxmaj yelchin arrives at a special screening of \" xxmaj burying the xxmaj ex \" held at xxmaj grauman 's xxmaj egyptian xxmaj theatre in xxmaj los xxmaj angeles . xxmaj yelchin , a charismatic and rising actor best known for playing xxmaj chekov in the new \" xxmaj star</td>\n",
              "      <td>0</td>\n",
              "    </tr>\n",
              "    <tr>\n",
              "      <td>xxbos xxmaj xxunk : xxmaj the xxmaj muscle - xxmaj building , xxmaj brain - xxmaj boosting xxmaj amino xxmaj acid that xxmaj benefits the xxmaj entire xxmaj body xxmaj while you may not be familiar with the term specifically , you use xxunk every day to strengthen your body and , frankly , allow it to work properly . xxmaj this amino acid is essential for many different muscle</td>\n",
              "      <td>0</td>\n",
              "    </tr>\n",
              "  </tbody>\n",
              "</table>"
            ],
            "text/plain": [
              "<IPython.core.display.HTML object>"
            ]
          },
          "metadata": {
            "tags": []
          }
        }
      ]
    },
    {
      "cell_type": "code",
      "metadata": {
        "id": "Z_EFAzHj3kKY",
        "colab_type": "code",
        "colab": {}
      },
      "source": [
        "classifier =text_classifier_learner(data_clas, AWD_LSTM, drop_mult=0.5)\n",
        "classifier.load_encoder('fine_tuned_enc');"
      ],
      "execution_count": 0,
      "outputs": []
    },
    {
      "cell_type": "code",
      "metadata": {
        "id": "PQAVzjlG3-4D",
        "colab_type": "code",
        "colab": {
          "base_uri": "https://localhost:8080/",
          "height": 438
        },
        "outputId": "5a173d60-967c-475e-bc4d-5616d2898a2d"
      },
      "source": [
        "classifier.lr_find()\n",
        "classifier.recorder.plot()"
      ],
      "execution_count": 28,
      "outputs": [
        {
          "output_type": "display_data",
          "data": {
            "text/html": [
              "\n",
              "    <div>\n",
              "        <style>\n",
              "            /* Turns off some styling */\n",
              "            progress {\n",
              "                /* gets rid of default border in Firefox and Opera. */\n",
              "                border: none;\n",
              "                /* Needs to be in here for Safari polyfill so background images work as expected. */\n",
              "                background-size: auto;\n",
              "            }\n",
              "            .progress-bar-interrupted, .progress-bar-interrupted::-webkit-progress-bar {\n",
              "                background: #F44336;\n",
              "            }\n",
              "        </style>\n",
              "      <progress value='2' class='' max='3', style='width:300px; height:20px; vertical-align: middle;'></progress>\n",
              "      66.67% [2/3 01:08<00:34]\n",
              "    </div>\n",
              "    \n",
              "<table border=\"1\" class=\"dataframe\">\n",
              "  <thead>\n",
              "    <tr style=\"text-align: left;\">\n",
              "      <th>epoch</th>\n",
              "      <th>train_loss</th>\n",
              "      <th>valid_loss</th>\n",
              "      <th>accuracy</th>\n",
              "      <th>time</th>\n",
              "    </tr>\n",
              "  </thead>\n",
              "  <tbody>\n",
              "    <tr>\n",
              "      <td>0</td>\n",
              "      <td>0.734184</td>\n",
              "      <td>#na#</td>\n",
              "      <td>00:38</td>\n",
              "    </tr>\n",
              "    <tr>\n",
              "      <td>1</td>\n",
              "      <td>1.277409</td>\n",
              "      <td>#na#</td>\n",
              "      <td>00:30</td>\n",
              "    </tr>\n",
              "  </tbody>\n",
              "</table><p>\n",
              "\n",
              "    <div>\n",
              "        <style>\n",
              "            /* Turns off some styling */\n",
              "            progress {\n",
              "                /* gets rid of default border in Firefox and Opera. */\n",
              "                border: none;\n",
              "                /* Needs to be in here for Safari polyfill so background images work as expected. */\n",
              "                background-size: auto;\n",
              "            }\n",
              "            .progress-bar-interrupted, .progress-bar-interrupted::-webkit-progress-bar {\n",
              "                background: #F44336;\n",
              "            }\n",
              "        </style>\n",
              "      <progress value='2' class='' max='46', style='width:300px; height:20px; vertical-align: middle;'></progress>\n",
              "      4.35% [2/46 00:04<01:32 1.8389]\n",
              "    </div>\n",
              "    "
            ],
            "text/plain": [
              "<IPython.core.display.HTML object>"
            ]
          },
          "metadata": {
            "tags": []
          }
        },
        {
          "output_type": "stream",
          "text": [
            "LR Finder is complete, type {learner_name}.recorder.plot() to see the graph.\n"
          ],
          "name": "stdout"
        },
        {
          "output_type": "display_data",
          "data": {
            "image/png": "[encoded data removed]",
            "text/plain": [
              "<Figure size 432x288 with 1 Axes>"
            ]
          },
          "metadata": {
            "tags": []
          }
        }
      ]
    },
    {
      "cell_type": "code",
      "metadata": {
        "id": "hShr3T6H4-tw",
        "colab_type": "code",
        "colab": {
          "base_uri": "https://localhost:8080/",
          "height": 80
        },
        "outputId": "0d1a0eb7-fa00-4744-8c49-474011485172"
      },
      "source": [
        "classifier.fit_one_cycle(1, 5e-2, moms=(0.8,0.7))"
      ],
      "execution_count": 30,
      "outputs": [
        {
          "output_type": "display_data",
          "data": {
            "text/html": [
              "<table border=\"1\" class=\"dataframe\">\n",
              "  <thead>\n",
              "    <tr style=\"text-align: left;\">\n",
              "      <th>epoch</th>\n",
              "      <th>train_loss</th>\n",
              "      <th>valid_loss</th>\n",
              "      <th>accuracy</th>\n",
              "      <th>time</th>\n",
              "    </tr>\n",
              "  </thead>\n",
              "  <tbody>\n",
              "    <tr>\n",
              "      <td>0</td>\n",
              "      <td>0.328951</td>\n",
              "      <td>0.234994</td>\n",
              "      <td>0.905172</td>\n",
              "      <td>00:42</td>\n",
              "    </tr>\n",
              "  </tbody>\n",
              "</table>"
            ],
            "text/plain": [
              "<IPython.core.display.HTML object>"
            ]
          },
          "metadata": {
            "tags": []
          }
        }
      ]
    },
    {
      "cell_type": "code",
      "metadata": {
        "id": "pBZON2fE7aIv",
        "colab_type": "code",
        "colab": {
          "base_uri": "https://localhost:8080/",
          "height": 173
        },
        "outputId": "75272a86-5e8c-4c8d-92da-3d0627a70f6d"
      },
      "source": [
        "classifier.fit_one_cycle(4, 5e-2, moms=(0.8,0.7))"
      ],
      "execution_count": 31,
      "outputs": [
        {
          "output_type": "display_data",
          "data": {
            "text/html": [
              "<table border=\"1\" class=\"dataframe\">\n",
              "  <thead>\n",
              "    <tr style=\"text-align: left;\">\n",
              "      <th>epoch</th>\n",
              "      <th>train_loss</th>\n",
              "      <th>valid_loss</th>\n",
              "      <th>accuracy</th>\n",
              "      <th>time</th>\n",
              "    </tr>\n",
              "  </thead>\n",
              "  <tbody>\n",
              "    <tr>\n",
              "      <td>0</td>\n",
              "      <td>0.263365</td>\n",
              "      <td>0.326487</td>\n",
              "      <td>0.883621</td>\n",
              "      <td>00:43</td>\n",
              "    </tr>\n",
              "    <tr>\n",
              "      <td>1</td>\n",
              "      <td>0.283671</td>\n",
              "      <td>0.257685</td>\n",
              "      <td>0.905172</td>\n",
              "      <td>00:38</td>\n",
              "    </tr>\n",
              "    <tr>\n",
              "      <td>2</td>\n",
              "      <td>0.230477</td>\n",
              "      <td>0.265467</td>\n",
              "      <td>0.905172</td>\n",
              "      <td>00:38</td>\n",
              "    </tr>\n",
              "    <tr>\n",
              "      <td>3</td>\n",
              "      <td>0.196528</td>\n",
              "      <td>0.255043</td>\n",
              "      <td>0.892241</td>\n",
              "      <td>00:35</td>\n",
              "    </tr>\n",
              "  </tbody>\n",
              "</table>"
            ],
            "text/plain": [
              "<IPython.core.display.HTML object>"
            ]
          },
          "metadata": {
            "tags": []
          }
        }
      ]
    },
    {
      "cell_type": "code",
      "metadata": {
        "id": "MUrWf-cd8ePB",
        "colab_type": "code",
        "colab": {
          "base_uri": "https://localhost:8080/",
          "height": 80
        },
        "outputId": "973acf19-b33d-493b-ed1b-982e19ccd4c0"
      },
      "source": [
        "classifier.save('first')\n",
        "classifier.load('first')\n",
        "classifier.freeze_to(-2)\n",
        "classifier.fit_one_cycle(1, slice(5e-2/(2.6**4),5e-2), moms=(0.8,0.7))"
      ],
      "execution_count": 33,
      "outputs": [
        {
          "output_type": "display_data",
          "data": {
            "text/html": [
              "<table border=\"1\" class=\"dataframe\">\n",
              "  <thead>\n",
              "    <tr style=\"text-align: left;\">\n",
              "      <th>epoch</th>\n",
              "      <th>train_loss</th>\n",
              "      <th>valid_loss</th>\n",
              "      <th>accuracy</th>\n",
              "      <th>time</th>\n",
              "    </tr>\n",
              "  </thead>\n",
              "  <tbody>\n",
              "    <tr>\n",
              "      <td>0</td>\n",
              "      <td>0.265683</td>\n",
              "      <td>0.205622</td>\n",
              "      <td>0.909483</td>\n",
              "      <td>00:44</td>\n",
              "    </tr>\n",
              "  </tbody>\n",
              "</table>"
            ],
            "text/plain": [
              "<IPython.core.display.HTML object>"
            ]
          },
          "metadata": {
            "tags": []
          }
        }
      ]
    },
    {
      "cell_type": "code",
      "metadata": {
        "id": "kWJOR3pG97CH",
        "colab_type": "code",
        "colab": {
          "base_uri": "https://localhost:8080/",
          "height": 80
        },
        "outputId": "793c8272-ff82-4e62-d717-1b06e685908b"
      },
      "source": [
        "classifier.save('second')\n",
        "classifier.load('second')\n",
        "classifier.freeze_to(-3)\n",
        "classifier.fit_one_cycle(1, slice(5e-3/(2.6**4),5e-3), moms=(0.8,0.7))"
      ],
      "execution_count": 34,
      "outputs": [
        {
          "output_type": "display_data",
          "data": {
            "text/html": [
              "<table border=\"1\" class=\"dataframe\">\n",
              "  <thead>\n",
              "    <tr style=\"text-align: left;\">\n",
              "      <th>epoch</th>\n",
              "      <th>train_loss</th>\n",
              "      <th>valid_loss</th>\n",
              "      <th>accuracy</th>\n",
              "      <th>time</th>\n",
              "    </tr>\n",
              "  </thead>\n",
              "  <tbody>\n",
              "    <tr>\n",
              "      <td>0</td>\n",
              "      <td>0.189428</td>\n",
              "      <td>0.191874</td>\n",
              "      <td>0.905172</td>\n",
              "      <td>00:42</td>\n",
              "    </tr>\n",
              "  </tbody>\n",
              "</table>"
            ],
            "text/plain": [
              "<IPython.core.display.HTML object>"
            ]
          },
          "metadata": {
            "tags": []
          }
        }
      ]
    },
    {
      "cell_type": "code",
      "metadata": {
        "id": "7AH96uG6-LuB",
        "colab_type": "code",
        "colab": {
          "base_uri": "https://localhost:8080/",
          "height": 80
        },
        "outputId": "1ab7f7d2-423f-42c7-b9dc-e4b1c2ec953b"
      },
      "source": [
        "classifier.save('third')\n",
        "classifier.load('third')\n",
        "classifier.unfreeze()\n",
        "classifier.fit_one_cycle(1, slice(1e-3/(2.6**4),1e-3), moms=(0.8,0.7))"
      ],
      "execution_count": 35,
      "outputs": [
        {
          "output_type": "display_data",
          "data": {
            "text/html": [
              "<table border=\"1\" class=\"dataframe\">\n",
              "  <thead>\n",
              "    <tr style=\"text-align: left;\">\n",
              "      <th>epoch</th>\n",
              "      <th>train_loss</th>\n",
              "      <th>valid_loss</th>\n",
              "      <th>accuracy</th>\n",
              "      <th>time</th>\n",
              "    </tr>\n",
              "  </thead>\n",
              "  <tbody>\n",
              "    <tr>\n",
              "      <td>0</td>\n",
              "      <td>0.144534</td>\n",
              "      <td>0.193608</td>\n",
              "      <td>0.913793</td>\n",
              "      <td>00:38</td>\n",
              "    </tr>\n",
              "  </tbody>\n",
              "</table>"
            ],
            "text/plain": [
              "<IPython.core.display.HTML object>"
            ]
          },
          "metadata": {
            "tags": []
          }
        }
      ]
    },
    {
      "cell_type": "code",
      "metadata": {
        "id": "UReM8WXx-hNC",
        "colab_type": "code",
        "colab": {
          "base_uri": "https://localhost:8080/",
          "height": 34
        },
        "outputId": "7b5c481c-4e69-4573-f1c6-a2be54b183af"
      },
      "source": [
        "classifier.predict('''Hello. I suffer from congestive heart failure due to MI. \n",
        "I do have an ICD implant. Have started to experience a weird feeling in middle of chest \n",
        "almost like im getting ready to have an annifilactic type reaction a mild anginia I think, \n",
        "when this happens my BP monitor registers a low blood pressure, higher heart, and irregular \n",
        "heart beat. Breathing is a little more labored and is accompanied by some mild naseua and mild \n",
        "light headed. Just had an echo 2 weeks ago and nothing alarming there This very uneasy and \n",
        "dreadful feeling. Example of BP reading 83/51 HR 96 and IHB. Cardiologist just tweeked meds to \n",
        "see if that would help but no change. Should I contact Cardiologist again. \n",
        "Any advice greatly appreciated. Just add a note my heart did\n",
        "throw a clot that went to my arm about 8 months ago had embolectomy.'''\n",
        ")"
      ],
      "execution_count": 37,
      "outputs": [
        {
          "output_type": "execute_result",
          "data": {
            "text/plain": [
              "(Category 1, tensor(1), tensor([0.3540, 0.6460]))"
            ]
          },
          "metadata": {
            "tags": []
          },
          "execution_count": 37
        }
      ]
    },
    {
      "cell_type": "code",
      "metadata": {
        "id": "icBc9xSPEStH",
        "colab_type": "code",
        "colab": {
          "base_uri": "https://localhost:8080/",
          "height": 34
        },
        "outputId": "eccaa488-eddd-4b01-829e-a5ad8eee07fb"
      },
      "source": [
        "classifier.predict('Hi, How are you? It is such a lovely day')"
      ],
      "execution_count": 38,
      "outputs": [
        {
          "output_type": "execute_result",
          "data": {
            "text/plain": [
              "(Category 0, tensor(0), tensor([0.9965, 0.0035]))"
            ]
          },
          "metadata": {
            "tags": []
          },
          "execution_count": 38
        }
      ]
    },
    {
      "cell_type": "code",
      "metadata": {
        "id": "PTwO8NwrEjc4",
        "colab_type": "code",
        "colab": {}
      },
      "source": [
        ""
      ],
      "execution_count": 0,
      "outputs": []
    }
  ]
}